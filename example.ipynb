{
 "cells": [
  {
   "cell_type": "markdown",
   "metadata": {},
   "source": [
    "# Alphavec example\n",
    "\n",
    "In this example we'll walkthrough creating and backtesting a simple cost-aware crypto trend strategy."
   ]
  },
  {
   "cell_type": "code",
   "execution_count": null,
   "metadata": {},
   "outputs": [],
   "source": [
    "import os\n",
    "import sys\n",
    "from pathlib import PurePath\n",
    "from functools import partial\n",
    "from IPython.display import display\n",
    "\n",
    "import numpy as np\n",
    "import pandas as pd\n",
    "import matplotlib.pyplot as plt\n",
    "\n",
    "\n",
    "import alphavec.backtest as vbt\n",
    "\n",
    "workspace_root = str(PurePath(os.getcwd()))\n",
    "sys.path.append(workspace_root)\n",
    "\n",
    "plt.rc(\"figure\", figsize=(16, 6))\n",
    "plt.rc(\"savefig\", dpi=90)\n",
    "plt.rc(\"font\", family=\"sans-serif\")\n",
    "plt.rc(\"font\", size=14)\n",
    "\n",
    "%matplotlib inline\n",
    "%reload_ext autoreload\n",
    "%autoreload 3"
   ]
  },
  {
   "cell_type": "markdown",
   "metadata": {},
   "source": [
    "Let's begin by loading our data.\n",
    "\n",
    "We transform a flat file of candlestick (kline) data for a variety of crypto assets into the required format for backtesting: a single level DatetimeIndex with a column for each asset."
   ]
  },
  {
   "cell_type": "code",
   "execution_count": null,
   "metadata": {},
   "outputs": [],
   "source": [
    "def ohlcv_from_csv(filename):\n",
    "    return pd.read_csv(\n",
    "        filename,\n",
    "        index_col=[\"symbol\", \"dt\"],\n",
    "        parse_dates=[\"dt\"],\n",
    "        dtype={\n",
    "            \"o\": np.float64,\n",
    "            \"h\": np.float64,\n",
    "            \"l\": np.float64,\n",
    "            \"c\": np.float64,\n",
    "            \"v\": np.float64,\n",
    "        },\n",
    "        dayfirst=True,\n",
    "    )\n",
    "\n",
    "\n",
    "prices_filename = f\"{workspace_root}/tests/testdata/binance-margin-1d.csv\"\n",
    "market = ohlcv_from_csv(prices_filename)\n",
    "market = market[~market.index.duplicated()]\n",
    "market = market.unstack(level=0).sort_index(axis=1).stack()\n",
    "\n",
    "# Close price series for calulating our strategy weights.\n",
    "strategy_prices = pd.DataFrame(\n",
    "    market.loc[:, [\"c\"]].unstack(level=1).droplevel(level=0, axis=1)\n",
    ")\n",
    "\n",
    "# Open price series, used to calculate open-to-open returns.\n",
    "# When returns are shifted -2 periods during the backtest, implies we can execute our trades\n",
    "# at the open price of the next day / bar.\n",
    "trade_prices = pd.DataFrame(\n",
    "    market.loc[:, [\"o\"]].unstack(level=1).droplevel(level=0, axis=1)\n",
    ")\n",
    "\n",
    "display(trade_prices.tail())"
   ]
  },
  {
   "cell_type": "markdown",
   "metadata": {},
   "source": [
    "Using the prices we create a simple risk-adjusted moving average cross forecast."
   ]
  },
  {
   "cell_type": "code",
   "execution_count": null,
   "metadata": {},
   "outputs": [],
   "source": [
    "lookback = 16\n",
    "forecast = (\n",
    "    strategy_prices.ewm(span=lookback, adjust=False).mean()\n",
    "    - strategy_prices.ewm(span=lookback * 4, adjust=False).mean()\n",
    ").div(strategy_prices.diff().ewm(span=20).std())\n",
    "\n",
    "forecast.plot()"
   ]
  },
  {
   "cell_type": "markdown",
   "metadata": {},
   "source": [
    "Next we scale the forecast to acheive an absolute median value of 1. \n",
    "\n",
    "Note we use a rolling method to prevent look-ahead bias."
   ]
  },
  {
   "cell_type": "code",
   "execution_count": null,
   "metadata": {},
   "outputs": [],
   "source": [
    "def roll_scale(x: pd.DataFrame, scaler, window=252, min_periods=20) -> pd.DataFrame:\n",
    "    return x.rolling(window=window, min_periods=min_periods).apply(\n",
    "        lambda x: scaler(x)[-1], raw=True\n",
    "    )\n",
    "\n",
    "\n",
    "def absmedian_scale(x):\n",
    "    absavg = np.median(np.abs(x))\n",
    "    scalar = 1 if absavg == 0 else 1 / absavg\n",
    "    return x * scalar\n",
    "\n",
    "\n",
    "forecast = forecast.pipe(roll_scale, scaler=absmedian_scale)\n",
    "forecast.plot()"
   ]
  },
  {
   "cell_type": "markdown",
   "metadata": {},
   "source": [
    "All asset forecasts now share a common scale, enabling us to apply a function to attenuate large forecasts and guard against reversion at the extremes of a trend."
   ]
  },
  {
   "cell_type": "code",
   "execution_count": null,
   "metadata": {},
   "outputs": [],
   "source": [
    "def reverting_sigmoid(x):\n",
    "    return x * np.exp(-(x**2))\n",
    "\n",
    "\n",
    "forecast = forecast.map(reverting_sigmoid)\n",
    "forecast.plot()"
   ]
  },
  {
   "cell_type": "markdown",
   "metadata": {},
   "source": [
    "The final strategy weights are formed by normalizing the portfolio allocations so they sum to 1 at each interval."
   ]
  },
  {
   "cell_type": "code",
   "execution_count": null,
   "metadata": {},
   "outputs": [],
   "source": [
    "weights = forecast.div(forecast.abs().sum(axis=1), axis=0)\n",
    "display(weights.tail())\n",
    "display(weights.describe())\n",
    "weights.plot()"
   ]
  },
  {
   "cell_type": "markdown",
   "metadata": {},
   "source": [
    "Finally we are ready to backtest.\n",
    "\n",
    "However, we must take care to align the prices and weights.\n",
    "\n",
    "During the backtest the returns calculated from the prices will be _shifted_ to prevent look-ahead bias.\n",
    "\n",
    "Note this is a cost-aware backtest with fixed leverage. We've chosen cost parameters that mimic a typical crypto exchange."
   ]
  },
  {
   "cell_type": "code",
   "execution_count": null,
   "metadata": {},
   "outputs": [],
   "source": [
    "weights *= 2  # Apply fixed 2x leverage\n",
    "\n",
    "weights = weights[\"2019-01-01\":]\n",
    "trade_prices = trade_prices.mask(weights.isna())\n",
    "trade_prices, weights = trade_prices.align(weights, join=\"inner\")\n",
    "\n",
    "perf, perf_pnl, perf_sr, port_perf, port_rets = vbt.backtest(\n",
    "    weights,\n",
    "    trade_prices,\n",
    "    freq_day=1,\n",
    "    trading_days_year=365,\n",
    "    shift_periods=2,\n",
    "    commission_func=partial(vbt.pct_commission, fee=0.001),\n",
    "    ann_borrow_rate=0.05,\n",
    "    spread_pct=0.0005,\n",
    "    ann_risk_free_rate=0,\n",
    "    bootstrap_n=1000,\n",
    ")"
   ]
  },
  {
   "cell_type": "markdown",
   "metadata": {},
   "source": [
    "Let's look at the performance of the strategy, starting with the asset-wise view, then the portfolio view.\n",
    "\n",
    "Note Sharpe and volatility are annualized measures."
   ]
  },
  {
   "cell_type": "code",
   "execution_count": null,
   "metadata": {},
   "outputs": [],
   "source": [
    "display(perf)\n",
    "perf_pnl.plot()\n",
    "perf_sr.plot()"
   ]
  },
  {
   "cell_type": "code",
   "execution_count": null,
   "metadata": {},
   "outputs": [],
   "source": [
    "display(port_perf)"
   ]
  },
  {
   "cell_type": "code",
   "execution_count": null,
   "metadata": {},
   "outputs": [],
   "source": [
    "port_rets.resample(\"Y\").sum().rename(lambda x: x.strftime(\"%Y\")).plot(kind=\"bar\")"
   ]
  },
  {
   "cell_type": "code",
   "execution_count": null,
   "metadata": {},
   "outputs": [],
   "source": [
    "perf_sr.loc[:, (\"portfolio\", \"SR\")].resample(\"Y\").last().rename(\n",
    "    lambda x: x.strftime(\"%Y\")\n",
    ").plot(kind=\"bar\")"
   ]
  },
  {
   "cell_type": "markdown",
   "metadata": {},
   "source": [
    "Simulate 1000 USD initial investment"
   ]
  },
  {
   "cell_type": "code",
   "execution_count": null,
   "metadata": {},
   "outputs": [],
   "source": [
    "(1000 * vbt.pnl(port_rets)).plot()"
   ]
  },
  {
   "cell_type": "code",
   "execution_count": null,
   "metadata": {},
   "outputs": [],
   "source": [
    "port_cagr = port_perf.loc[\"observed\", \"cagr\"]\n",
    "bench_cagr = (\n",
    "    perf.loc[\"BTCUSDT\", (\"asset\", \"cagr\")] * 0.5\n",
    "    + perf.loc[\"ETHUSDT\", (\"asset\", \"cagr\")] * 0.5\n",
    ")\n",
    "\n",
    "info_ratio = (port_cagr - bench_cagr) / port_perf.loc[\"observed\", \"annual_volatility\"]\n",
    "\n",
    "info_ratio"
   ]
  },
  {
   "cell_type": "code",
   "execution_count": null,
   "metadata": {},
   "outputs": [],
   "source": [
    "# TODO: calc alpha and beta"
   ]
  },
  {
   "cell_type": "code",
   "execution_count": null,
   "metadata": {},
   "outputs": [],
   "source": [
    "port_rets.hist(bins=100)\n",
    "plt.show()\n",
    "display(port_rets.skew(), port_rets.kurtosis())"
   ]
  },
  {
   "cell_type": "markdown",
   "metadata": {},
   "source": [
    "## Next Steps\n",
    "\n",
    "Check out our upcoming Alphaone project <https://github.com/breaded-xyz/alphaone> for a real-world strategy that has been validated with Alphavec and is running in live."
   ]
  }
 ],
 "metadata": {
  "kernelspec": {
   "display_name": ".venv",
   "language": "python",
   "name": "python3"
  },
  "language_info": {
   "codemirror_mode": {
    "name": "ipython",
    "version": 3
   },
   "file_extension": ".py",
   "mimetype": "text/x-python",
   "name": "python",
   "nbconvert_exporter": "python",
   "pygments_lexer": "ipython3",
   "version": "3.11.4"
  }
 },
 "nbformat": 4,
 "nbformat_minor": 2
}
